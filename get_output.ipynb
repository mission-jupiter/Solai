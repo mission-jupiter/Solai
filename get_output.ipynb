{
 "cells": [
  {
   "cell_type": "code",
   "execution_count": null,
   "id": "0f1e2561",
   "metadata": {},
   "outputs": [],
   "source": [
    "#def pv_data(startdate, enddate):\n",
    "    #url = f\"https://api.solar.sheffield.ac.uk/pvlive/api/v4/pes/12?start={startdate}&end={enddate}&data_format=csv\"\n",
    "    #responsepv = requests.get(url)\n",
    "    #data = responsepv.text.split('\\n')[1:-1] #remove the last empty line\n",
    "    #df = pd.DataFrame([x.split(',')for x in data], columns=['pes_id','time','output'],)\n",
    "    #df['time'] = pd.to_datetime(df['time'], utc=True)\n",
    "    #return df"
   ]
  }
 ],
 "metadata": {
  "kernelspec": {
   "display_name": "Python 3 (ipykernel)",
   "language": "python",
   "name": "python3"
  },
  "language_info": {
   "codemirror_mode": {
    "name": "ipython",
    "version": 3
   },
   "file_extension": ".py",
   "mimetype": "text/x-python",
   "name": "python",
   "nbconvert_exporter": "python",
   "pygments_lexer": "ipython3",
   "version": "3.10.9"
  }
 },
 "nbformat": 4,
 "nbformat_minor": 5
}
