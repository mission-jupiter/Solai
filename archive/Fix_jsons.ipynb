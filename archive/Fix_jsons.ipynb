{
 "cells": [
  {
   "cell_type": "code",
   "execution_count": 11,
   "metadata": {},
   "outputs": [],
   "source": [
    "from datetime import datetime\n",
    "from pathlib import Path\n",
    "import json\n",
    "import os\n",
    "from glob import glob\n",
    "import pandas as pd\n",
    "\n",
    "def forecast_preprocessing(df) -> pd.DataFrame:\n",
    "\n",
    "    # Now remove all not forecasting timestamps that are smaller than the query time.\n",
    "    df = df.loc[df[\"time\"] >= df[\"api_called_at\"]]\n",
    "    return df\n",
    "\n",
    "def fix_weather_jsons() -> None:\n",
    "\n",
    "    path = f\"./weather_forecasts_old/1/\"\n",
    "    files = glob(os.path.join(path, \"*.json\"))\n",
    "    \n",
    "    for f in files:\n",
    "        df = pd.read_json(f)\n",
    "        df[\"time\"] = pd.to_datetime(df[\"time\"])\n",
    "        df[\"api_called_at\"] = pd.to_datetime(Path(f).name.split(\".\")[0].replace(\"_\", \" \"))\n",
    "        df[\"customer_id\"] = 1\n",
    "        df = df.loc[df[\"time\"] >= df[\"api_called_at\"]]\n",
    "        api_called_at = str(pd.to_datetime(Path(f).name.split(\".\")[0].replace(\"_\", \" \")))\n",
    "        newpath = f\"./weather_forecastsx/1/{api_called_at}.csv\"\n",
    "        df.to_csv(newpath, index=None)\n",
    "\n",
    "fix_weather_jsons()\n"
   ]
  },
  {
   "cell_type": "code",
   "execution_count": null,
   "metadata": {},
   "outputs": [],
   "source": []
  }
 ],
 "metadata": {
  "kernelspec": {
   "display_name": "bidata",
   "language": "python",
   "name": "python3"
  },
  "language_info": {
   "codemirror_mode": {
    "name": "ipython",
    "version": 3
   },
   "file_extension": ".py",
   "mimetype": "text/x-python",
   "name": "python",
   "nbconvert_exporter": "python",
   "pygments_lexer": "ipython3",
   "version": "3.9.16"
  },
  "orig_nbformat": 4
 },
 "nbformat": 4,
 "nbformat_minor": 2
}
