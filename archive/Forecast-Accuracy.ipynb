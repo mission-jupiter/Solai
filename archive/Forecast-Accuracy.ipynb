{
 "cells": [
  {
   "cell_type": "code",
   "execution_count": 1,
   "metadata": {},
   "outputs": [],
   "source": [
    "import pandas as pd\n",
    "from datetime import datetime, timedelta\n",
    "import re\n",
    "import requests\n",
    "import json\n",
    "import os"
   ]
  },
  {
   "attachments": {},
   "cell_type": "markdown",
   "metadata": {},
   "source": [
    "# Logical Structure\n",
    "\n",
    "1. We download the real weather data and store it in a DataFrame\n",
    "2. Loop over the forecasts\n",
    "    - Take the forecast and restrict them to the next 2 days\n",
    "    - Compare each forecast with the real weather and store the difference as a percentage\n",
    "    - Add this percentage to a list. Now we can calculate the average"
   ]
  },
  {
   "attachments": {},
   "cell_type": "markdown",
   "metadata": {},
   "source": [
    "# 1. Download Real Weather Data"
   ]
  },
  {
   "cell_type": "code",
   "execution_count": 2,
   "metadata": {},
   "outputs": [],
   "source": [
    "def create_date_and_hour(df:pd.DataFrame):\n",
    "    df[\"date\"] = pd.to_datetime(df.time).dt.date\n",
    "    df[\"hour\"] = pd.to_datetime(df.time).dt.hour\n",
    "    return df\n",
    "\n",
    "def get_weather(start_date:str, end_date:str) -> pd.DataFrame:\n",
    "    api = f\"https://archive-api.open-meteo.com/v1/archive?latitude=51.51&longitude=-0.13&start_date={start_date}&end_date={end_date}&hourly=temperature_2m,relativehumidity_2m,surface_pressure,direct_radiation,windspeed_10m,winddirection_10m\"\n",
    "    result = requests.get(api).text\n",
    "    df = pd.DataFrame(json.loads(result).get(\"hourly\"))\n",
    "\n",
    "    # Create better readable date and hour\n",
    "    df = create_date_and_hour(df)\n",
    "\n",
    "    # Remove the last day, because it's empty\n",
    "    df = df.loc[df.date != datetime.strptime(end_date, \"%Y-%m-%d\").date()]\n",
    "    \n",
    "    return df"
   ]
  },
  {
   "cell_type": "code",
   "execution_count": 21,
   "metadata": {},
   "outputs": [],
   "source": [
    "# Right now the API takes 5 days to publish the historical weather data\n",
    "real_weather = get_weather(\"2023-05-11\", \"2023-05-15\")"
   ]
  },
  {
   "attachments": {},
   "cell_type": "markdown",
   "metadata": {},
   "source": [
    "# 2. Loop over forecasts"
   ]
  },
  {
   "cell_type": "code",
   "execution_count": 22,
   "metadata": {},
   "outputs": [],
   "source": [
    "# Get all files in folder and store the filepaths\n",
    "filepaths = []\n",
    "# assign directory\n",
    "directory = 'forecast-data'\n",
    "\n",
    "# iterate over files in\n",
    "# that directory\n",
    "for filename in os.listdir(directory):\n",
    "\tf = os.path.join(directory, filename)\n",
    "\t# checking if it is a file\n",
    "\tif os.path.isfile(f):\n",
    "\t\tfilepaths.append(f)\n",
    "\n",
    "filepaths = sorted(filepaths)"
   ]
  },
  {
   "cell_type": "code",
   "execution_count": 23,
   "metadata": {},
   "outputs": [],
   "source": [
    "temps = []\n",
    "for file in filepaths[:5]:\n",
    "    # Remove [:1] when you want to do it on more data\n",
    "    # Data is stored each day in a file. The only indicator which date we have is\n",
    "    # the filename. We have to extract the date out of the filename in step 1\n",
    "\n",
    "    # file name with extension\n",
    "    forecast_date = os.path.basename(file).split(\"_\")[0]\n",
    "    forecast_date = datetime.strptime(forecast_date, \"%Y-%m-%d\").date()\n",
    "    df = pd.read_json(file)\n",
    "    df = create_date_and_hour(df)\n",
    "    df = df.loc[(df[\"date\"] > forecast_date) & (df[\"date\"] <= forecast_date + timedelta(days=2))]\n",
    "    # Now we merge the real weather data in the forecasts\n",
    "    df = pd.merge(df, real_weather, on=\"time\", how=\"inner\", suffixes=(\"_forecast\", \"_real\"))\n",
    "    temp_diff = df[\"temperature_2m_forecast\"] / df[\"temperature_2m_real\"]\n",
    "    [temps.append(x) for x in temp_diff]\n",
    "\n",
    "\n"
   ]
  },
  {
   "cell_type": "code",
   "execution_count": 24,
   "metadata": {},
   "outputs": [
    {
     "data": {
      "text/plain": [
       "1.1338483259650256"
      ]
     },
     "execution_count": 24,
     "metadata": {},
     "output_type": "execute_result"
    }
   ],
   "source": [
    "# This should mean that the real weather is 13.3 percent higher than the prediction.\n",
    "# Be aware that the database has a 5 days delay. So we dont have all the data yet\n",
    "sum(temps) / len(temps)"
   ]
  },
  {
   "cell_type": "code",
   "execution_count": null,
   "metadata": {},
   "outputs": [],
   "source": []
  }
 ],
 "metadata": {
  "kernelspec": {
   "display_name": "bidata",
   "language": "python",
   "name": "python3"
  },
  "language_info": {
   "codemirror_mode": {
    "name": "ipython",
    "version": 3
   },
   "file_extension": ".py",
   "mimetype": "text/x-python",
   "name": "python",
   "nbconvert_exporter": "python",
   "pygments_lexer": "ipython3",
   "version": "3.9.16"
  },
  "orig_nbformat": 4
 },
 "nbformat": 4,
 "nbformat_minor": 2
}
