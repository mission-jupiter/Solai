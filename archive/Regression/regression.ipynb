{
 "cells": [
  {
   "attachments": {},
   "cell_type": "markdown",
   "id": "fb3e3ab0",
   "metadata": {},
   "source": [
    "# Linear regression\n"
   ]
  },
  {
   "attachments": {},
   "cell_type": "markdown",
   "id": "d578cf9e",
   "metadata": {},
   "source": [
    "Step 1 (Understanding the Dataset):\n",
    "- import the file csv with the time-series of a pv station.\n",
    "- see the Corr. matrix of the dataset for check the correlation beetween variables\n",
    "- save the x and y variables."
   ]
  },
  {
   "cell_type": "code",
   "execution_count": 4,
   "id": "76ad1ed1",
   "metadata": {},
   "outputs": [],
   "source": [
    "import pandas as pd\n",
    "import numpy as np"
   ]
  },
  {
   "cell_type": "code",
   "execution_count": 5,
   "id": "186e137a",
   "metadata": {},
   "outputs": [
    {
     "name": "stdout",
     "output_type": "stream",
     "text": [
      "             date_time  nwp_globalirrad  nwp_directirrad  nwp_temperature   \n",
      "0  2018-08-15 16:00:00              0.0              0.0            22.78  \\\n",
      "1  2018-08-15 16:15:00              0.0              0.0            22.75   \n",
      "2  2018-08-15 16:30:00              0.0              0.0            22.71   \n",
      "3  2018-08-15 16:45:00              0.0              0.0            22.64   \n",
      "4  2018-08-15 17:00:00              0.0              0.0            22.57   \n",
      "\n",
      "   nwp_humidity  nwp_windspeed  nwp_winddirection  nwp_pressure   \n",
      "0         96.85           4.28             339.41       1007.27  \\\n",
      "1         96.91           4.30             337.27       1007.27   \n",
      "2         96.95           4.28             334.47       1007.48   \n",
      "3         97.12           4.28             331.52       1007.39   \n",
      "4         97.15           4.33             329.78       1007.09   \n",
      "\n",
      "   lmd_totalirrad  lmd_diffuseirrad  lmd_temperature  lmd_pressure   \n",
      "0               0                 0        25.900000   1006.299988  \\\n",
      "1               0                 0        25.900000   1006.200012   \n",
      "2               0                 0        25.799999   1006.299988   \n",
      "3               0                 0        25.600000   1006.299988   \n",
      "4               0                 0        25.700001   1006.299988   \n",
      "\n",
      "   lmd_winddirection  lmd_windspeed  power  \n",
      "0                353            1.1    0.0  \n",
      "1                330            0.9    0.0  \n",
      "2                  1            1.9    0.0  \n",
      "3                309            0.4    0.0  \n",
      "4                335            1.6    0.0  \n"
     ]
    }
   ],
   "source": [
    "data = pd.read_csv('station00.csv')\n",
    "print(data.head())"
   ]
  },
  {
   "cell_type": "code",
   "execution_count": 6,
   "id": "21e96dbc",
   "metadata": {},
   "outputs": [],
   "source": [
    "#data.corr()"
   ]
  },
  {
   "attachments": {},
   "cell_type": "markdown",
   "id": "8453f463",
   "metadata": {},
   "source": [
    "- We focus on the last row of our matrix. As we can see, the power is close to perfect linearity correlation with some variables."
   ]
  },
  {
   "cell_type": "code",
   "execution_count": 7,
   "id": "51ae5260",
   "metadata": {},
   "outputs": [
    {
     "name": "stdout",
     "output_type": "stream",
     "text": [
      "       nwp_globalirrad  nwp_directirrad  nwp_temperature  nwp_humidity   \n",
      "0                  0.0              0.0            22.78         96.85  \\\n",
      "1                  0.0              0.0            22.75         96.91   \n",
      "2                  0.0              0.0            22.71         96.95   \n",
      "3                  0.0              0.0            22.64         97.12   \n",
      "4                  0.0              0.0            22.57         97.15   \n",
      "...                ...              ...              ...           ...   \n",
      "28891              0.0              0.0            26.04         49.55   \n",
      "28892              0.0              0.0            25.80         51.03   \n",
      "28893              0.0              0.0            25.54         52.43   \n",
      "28894              0.0              0.0            25.23         53.84   \n",
      "28895              0.0              0.0            24.88         55.21   \n",
      "\n",
      "       nwp_windspeed  nwp_winddirection  nwp_pressure  lmd_totalirrad   \n",
      "0               4.28             339.41       1007.27               0  \\\n",
      "1               4.30             337.27       1007.27               0   \n",
      "2               4.28             334.47       1007.48               0   \n",
      "3               4.28             331.52       1007.39               0   \n",
      "4               4.33             329.78       1007.09               0   \n",
      "...              ...                ...           ...             ...   \n",
      "28891           4.46              50.84       1000.10               0   \n",
      "28892           4.39              53.53       1000.24               0   \n",
      "28893           4.23              57.52       1000.35               0   \n",
      "28894           4.05              67.15       1000.52               0   \n",
      "28895           3.89              80.53       1000.72               0   \n",
      "\n",
      "       lmd_diffuseirrad  lmd_temperature  lmd_pressure  lmd_winddirection   \n",
      "0                     0        25.900000   1006.299988                353  \\\n",
      "1                     0        25.900000   1006.200012                330   \n",
      "2                     0        25.799999   1006.299988                  1   \n",
      "3                     0        25.600000   1006.299988                309   \n",
      "4                     0        25.700001   1006.299988                335   \n",
      "...                 ...              ...           ...                ...   \n",
      "28891                 0        24.299999    998.900024                177   \n",
      "28892                 0        23.600000    998.900024                 42   \n",
      "28893                 0        24.400000    999.000000                 68   \n",
      "28894                 0        24.000000    998.900024                278   \n",
      "28895                 0        22.900000    998.700012                277   \n",
      "\n",
      "       lmd_windspeed  \n",
      "0                1.1  \n",
      "1                0.9  \n",
      "2                1.9  \n",
      "3                0.4  \n",
      "4                1.6  \n",
      "...              ...  \n",
      "28891            0.1  \n",
      "28892            0.6  \n",
      "28893            0.0  \n",
      "28894            0.7  \n",
      "28895            0.2  \n",
      "\n",
      "[28896 rows x 13 columns]\n",
      "       power\n",
      "0        0.0\n",
      "1        0.0\n",
      "2        0.0\n",
      "3        0.0\n",
      "4        0.0\n",
      "...      ...\n",
      "28891    0.0\n",
      "28892    0.0\n",
      "28893    0.0\n",
      "28894    0.0\n",
      "28895    0.0\n",
      "\n",
      "[28896 rows x 1 columns]\n"
     ]
    }
   ],
   "source": [
    "x = pd. DataFrame (data.iloc [:,1:-1])\n",
    "y = pd. DataFrame (data.iloc [:, -1])\n",
    "print(x)\n",
    "print(y)"
   ]
  },
  {
   "attachments": {},
   "cell_type": "markdown",
   "id": "1f0aff2f",
   "metadata": {},
   "source": [
    "Step 2 (Splitting for training and testing the model ):\n",
    "- Let's split the data with the train_test_split() function from from sklearn.linear_selection library"
   ]
  },
  {
   "cell_type": "code",
   "execution_count": 8,
   "id": "8258f573",
   "metadata": {},
   "outputs": [],
   "source": [
    "from sklearn.model_selection import train_test_split"
   ]
  },
  {
   "cell_type": "code",
   "execution_count": 9,
   "id": "3cba22d4",
   "metadata": {},
   "outputs": [],
   "source": [
    "x_train, x_test, y_train, y_test = train_test_split(x, y, test_size=0.2, random_state=1)      "
   ]
  },
  {
   "cell_type": "code",
   "execution_count": 10,
   "id": "e6eafeca",
   "metadata": {},
   "outputs": [
    {
     "name": "stdout",
     "output_type": "stream",
     "text": [
      "x_train shape: (23116, 13) x_test shape: (5780, 13) y_train shape: (23116, 1) y_test shape: (5780, 1)\n"
     ]
    }
   ],
   "source": [
    "# see the shape of our train and test sets\n",
    "print(f'x_train shape: {x_train.shape}',\n",
    "      f'x_test shape: {x_test.shape}',\n",
    "      f'y_train shape: {y_train.shape}',\n",
    "      f'y_test shape: {y_test.shape}',\n",
    "     )"
   ]
  },
  {
   "attachments": {},
   "cell_type": "markdown",
   "id": "08b8bf41",
   "metadata": {},
   "source": [
    "Step 3 (fit the model):\n",
    "- We fit the model with LinearRegression(function) from sklearn.linear_model library"
   ]
  },
  {
   "cell_type": "code",
   "execution_count": 11,
   "id": "02f3c817",
   "metadata": {},
   "outputs": [],
   "source": [
    "from sklearn.linear_model import LinearRegression"
   ]
  },
  {
   "cell_type": "code",
   "execution_count": 12,
   "id": "692346ee",
   "metadata": {},
   "outputs": [
    {
     "data": {
      "text/html": [
       "<style>#sk-container-id-1 {color: black;background-color: white;}#sk-container-id-1 pre{padding: 0;}#sk-container-id-1 div.sk-toggleable {background-color: white;}#sk-container-id-1 label.sk-toggleable__label {cursor: pointer;display: block;width: 100%;margin-bottom: 0;padding: 0.3em;box-sizing: border-box;text-align: center;}#sk-container-id-1 label.sk-toggleable__label-arrow:before {content: \"▸\";float: left;margin-right: 0.25em;color: #696969;}#sk-container-id-1 label.sk-toggleable__label-arrow:hover:before {color: black;}#sk-container-id-1 div.sk-estimator:hover label.sk-toggleable__label-arrow:before {color: black;}#sk-container-id-1 div.sk-toggleable__content {max-height: 0;max-width: 0;overflow: hidden;text-align: left;background-color: #f0f8ff;}#sk-container-id-1 div.sk-toggleable__content pre {margin: 0.2em;color: black;border-radius: 0.25em;background-color: #f0f8ff;}#sk-container-id-1 input.sk-toggleable__control:checked~div.sk-toggleable__content {max-height: 200px;max-width: 100%;overflow: auto;}#sk-container-id-1 input.sk-toggleable__control:checked~label.sk-toggleable__label-arrow:before {content: \"▾\";}#sk-container-id-1 div.sk-estimator input.sk-toggleable__control:checked~label.sk-toggleable__label {background-color: #d4ebff;}#sk-container-id-1 div.sk-label input.sk-toggleable__control:checked~label.sk-toggleable__label {background-color: #d4ebff;}#sk-container-id-1 input.sk-hidden--visually {border: 0;clip: rect(1px 1px 1px 1px);clip: rect(1px, 1px, 1px, 1px);height: 1px;margin: -1px;overflow: hidden;padding: 0;position: absolute;width: 1px;}#sk-container-id-1 div.sk-estimator {font-family: monospace;background-color: #f0f8ff;border: 1px dotted black;border-radius: 0.25em;box-sizing: border-box;margin-bottom: 0.5em;}#sk-container-id-1 div.sk-estimator:hover {background-color: #d4ebff;}#sk-container-id-1 div.sk-parallel-item::after {content: \"\";width: 100%;border-bottom: 1px solid gray;flex-grow: 1;}#sk-container-id-1 div.sk-label:hover label.sk-toggleable__label {background-color: #d4ebff;}#sk-container-id-1 div.sk-serial::before {content: \"\";position: absolute;border-left: 1px solid gray;box-sizing: border-box;top: 0;bottom: 0;left: 50%;z-index: 0;}#sk-container-id-1 div.sk-serial {display: flex;flex-direction: column;align-items: center;background-color: white;padding-right: 0.2em;padding-left: 0.2em;position: relative;}#sk-container-id-1 div.sk-item {position: relative;z-index: 1;}#sk-container-id-1 div.sk-parallel {display: flex;align-items: stretch;justify-content: center;background-color: white;position: relative;}#sk-container-id-1 div.sk-item::before, #sk-container-id-1 div.sk-parallel-item::before {content: \"\";position: absolute;border-left: 1px solid gray;box-sizing: border-box;top: 0;bottom: 0;left: 50%;z-index: -1;}#sk-container-id-1 div.sk-parallel-item {display: flex;flex-direction: column;z-index: 1;position: relative;background-color: white;}#sk-container-id-1 div.sk-parallel-item:first-child::after {align-self: flex-end;width: 50%;}#sk-container-id-1 div.sk-parallel-item:last-child::after {align-self: flex-start;width: 50%;}#sk-container-id-1 div.sk-parallel-item:only-child::after {width: 0;}#sk-container-id-1 div.sk-dashed-wrapped {border: 1px dashed gray;margin: 0 0.4em 0.5em 0.4em;box-sizing: border-box;padding-bottom: 0.4em;background-color: white;}#sk-container-id-1 div.sk-label label {font-family: monospace;font-weight: bold;display: inline-block;line-height: 1.2em;}#sk-container-id-1 div.sk-label-container {text-align: center;}#sk-container-id-1 div.sk-container {/* jupyter's `normalize.less` sets `[hidden] { display: none; }` but bootstrap.min.css set `[hidden] { display: none !important; }` so we also need the `!important` here to be able to override the default hidden behavior on the sphinx rendered scikit-learn.org. See: https://github.com/scikit-learn/scikit-learn/issues/21755 */display: inline-block !important;position: relative;}#sk-container-id-1 div.sk-text-repr-fallback {display: none;}</style><div id=\"sk-container-id-1\" class=\"sk-top-container\"><div class=\"sk-text-repr-fallback\"><pre>LinearRegression()</pre><b>In a Jupyter environment, please rerun this cell to show the HTML representation or trust the notebook. <br />On GitHub, the HTML representation is unable to render, please try loading this page with nbviewer.org.</b></div><div class=\"sk-container\" hidden><div class=\"sk-item\"><div class=\"sk-estimator sk-toggleable\"><input class=\"sk-toggleable__control sk-hidden--visually\" id=\"sk-estimator-id-1\" type=\"checkbox\" checked><label for=\"sk-estimator-id-1\" class=\"sk-toggleable__label sk-toggleable__label-arrow\">LinearRegression</label><div class=\"sk-toggleable__content\"><pre>LinearRegression()</pre></div></div></div></div></div>"
      ],
      "text/plain": [
       "LinearRegression()"
      ]
     },
     "execution_count": 12,
     "metadata": {},
     "output_type": "execute_result"
    }
   ],
   "source": [
    "regressor = LinearRegression()\n",
    "regressor.fit(x_train, y_train)"
   ]
  },
  {
   "cell_type": "code",
   "execution_count": 13,
   "id": "c49efe82",
   "metadata": {},
   "outputs": [
    {
     "name": "stdout",
     "output_type": "stream",
     "text": [
      "[-2.1192357]\n",
      "[[ 2.07915268e-03 -1.65279386e-03 -2.65739360e-03  1.16026962e-03\n",
      "   5.67826591e-03 -8.41491748e-05  1.19413712e-02  4.38162643e-03\n",
      "   4.98592285e-06  2.26782295e-03 -9.94917922e-03  1.30087638e-04\n",
      "   8.57860189e-03]]\n"
     ]
    }
   ],
   "source": [
    "# check the fit, we want to see the intercept of our linear regression and the coef\n",
    "print(regressor.intercept_)\n",
    "print(regressor.coef_)"
   ]
  },
  {
   "attachments": {},
   "cell_type": "markdown",
   "id": "ec24cc42",
   "metadata": {},
   "source": [
    "Step 3 (Evaluate the model):\n",
    "- first, we predict the values with x_test"
   ]
  },
  {
   "cell_type": "code",
   "execution_count": 14,
   "id": "3fb9e14c",
   "metadata": {},
   "outputs": [],
   "source": [
    "y_pred = regressor.predict(x_test)"
   ]
  },
  {
   "cell_type": "code",
   "execution_count": 15,
   "id": "508e6260",
   "metadata": {},
   "outputs": [
    {
     "name": "stdout",
     "output_type": "stream",
     "text": [
      "Mean absolute error: 0.11\n",
      "Mean squared error: 0.08\n",
      "Root mean squared error: 0.28\n"
     ]
    }
   ],
   "source": [
    "from sklearn import metrics\n",
    "mae = metrics.mean_absolute_error(y_test, y_pred)\n",
    "mse = metrics.mean_squared_error(y_test, y_pred)\n",
    "rmse = np.sqrt(mse)\n",
    "\n",
    "print(f'Mean absolute error: {mae:.2f}')\n",
    "print(f'Mean squared error: {mse:.2f}')\n",
    "print(f'Root mean squared error: {rmse:.2f}')"
   ]
  },
  {
   "attachments": {},
   "cell_type": "markdown",
   "id": "a4112cf6",
   "metadata": {},
   "source": [
    "- The mse is close to 0. Good!!\n",
    "- The rmse of our model is 0.28, wich is small. That means our model might get its prediction wrong by adding or subtracting 0.28 from the actual value. "
   ]
  },
  {
   "cell_type": "code",
   "execution_count": 16,
   "id": "82b18f0c",
   "metadata": {},
   "outputs": [
    {
     "data": {
      "text/plain": [
       "0.9516386787302777"
      ]
     },
     "execution_count": 16,
     "metadata": {},
     "output_type": "execute_result"
    }
   ],
   "source": [
    "regressor.score(x_test, y_test)"
   ]
  },
  {
   "attachments": {},
   "cell_type": "markdown",
   "id": "5fe7668d",
   "metadata": {},
   "source": [
    "- Also the R^2 is high, it means  This means that the predictor variables explain about 95% of the variance in the response variable."
   ]
  },
  {
   "attachments": {},
   "cell_type": "markdown",
   "id": "5b63516e",
   "metadata": {},
   "source": [
    "Rest of the work:\n",
    "- save the model with dump"
   ]
  },
  {
   "cell_type": "code",
   "execution_count": null,
   "id": "ffe86242",
   "metadata": {},
   "outputs": [],
   "source": []
  },
  {
   "cell_type": "code",
   "execution_count": 17,
   "id": "e4028f2a",
   "metadata": {},
   "outputs": [
    {
     "name": "stdout",
     "output_type": "stream",
     "text": [
      "[[ 2.07915268e-03 -1.65279386e-03 -2.65739360e-03  1.16026962e-03\n",
      "   5.67826591e-03 -8.41491748e-05  1.19413712e-02  4.38162643e-03\n",
      "   4.98592285e-06  2.26782295e-03 -9.94917922e-03  1.30087638e-04\n",
      "   8.57860189e-03]]\n"
     ]
    }
   ],
   "source": [
    "print(regressor.coef_)"
   ]
  },
  {
   "cell_type": "code",
   "execution_count": null,
   "id": "01e7381f",
   "metadata": {},
   "outputs": [],
   "source": []
  }
 ],
 "metadata": {
  "kernelspec": {
   "display_name": "Python 3 (ipykernel)",
   "language": "python",
   "name": "python3"
  },
  "language_info": {
   "codemirror_mode": {
    "name": "ipython",
    "version": 3
   },
   "file_extension": ".py",
   "mimetype": "text/x-python",
   "name": "python",
   "nbconvert_exporter": "python",
   "pygments_lexer": "ipython3",
   "version": "3.9.16"
  }
 },
 "nbformat": 4,
 "nbformat_minor": 5
}
