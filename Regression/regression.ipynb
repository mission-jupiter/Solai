{
 "cells": [
  {
   "cell_type": "markdown",
   "id": "fb3e3ab0",
   "metadata": {},
   "source": [
    "# Linear regression\n"
   ]
  },
  {
   "cell_type": "markdown",
   "id": "d578cf9e",
   "metadata": {},
   "source": [
    "Step 1 (Understanding the Dataset):\n",
    "- import the file csv with the time-series of a pv station.\n",
    "- see the Corr. matrix of the dataset for check the correlation beetween variables\n",
    "- save the x and y variables."
   ]
  },
  {
   "cell_type": "code",
   "execution_count": 44,
   "id": "76ad1ed1",
   "metadata": {},
   "outputs": [],
   "source": [
    "import pandas as pd\n",
    "import numpy as np"
   ]
  },
  {
   "cell_type": "code",
   "execution_count": 45,
   "id": "186e137a",
   "metadata": {},
   "outputs": [
    {
     "name": "stdout",
     "output_type": "stream",
     "text": [
      "             date_time  nwp_globalirrad  nwp_directirrad  nwp_temperature  \\\n",
      "0  2018-08-15 16:00:00              0.0              0.0            22.78   \n",
      "1  2018-08-15 16:15:00              0.0              0.0            22.75   \n",
      "2  2018-08-15 16:30:00              0.0              0.0            22.71   \n",
      "3  2018-08-15 16:45:00              0.0              0.0            22.64   \n",
      "4  2018-08-15 17:00:00              0.0              0.0            22.57   \n",
      "\n",
      "   nwp_humidity  nwp_windspeed  nwp_winddirection  nwp_pressure  \\\n",
      "0         96.85           4.28             339.41       1007.27   \n",
      "1         96.91           4.30             337.27       1007.27   \n",
      "2         96.95           4.28             334.47       1007.48   \n",
      "3         97.12           4.28             331.52       1007.39   \n",
      "4         97.15           4.33             329.78       1007.09   \n",
      "\n",
      "   lmd_totalirrad  lmd_diffuseirrad  lmd_temperature  lmd_pressure  \\\n",
      "0               0                 0        25.900000   1006.299988   \n",
      "1               0                 0        25.900000   1006.200012   \n",
      "2               0                 0        25.799999   1006.299988   \n",
      "3               0                 0        25.600000   1006.299988   \n",
      "4               0                 0        25.700001   1006.299988   \n",
      "\n",
      "   lmd_winddirection  lmd_windspeed  power  \n",
      "0                353            1.1    0.0  \n",
      "1                330            0.9    0.0  \n",
      "2                  1            1.9    0.0  \n",
      "3                309            0.4    0.0  \n",
      "4                335            1.6    0.0  \n"
     ]
    }
   ],
   "source": [
    "data = pd.read_csv('/Users/sukhdevchaman/Desktop/unitn/Big Data Techn/Projectenvbigdata/Project/PVODdatasets_v1/station00.csv')\n",
    "print(data.head())"
   ]
  },
  {
   "cell_type": "code",
   "execution_count": 46,
   "id": "21e96dbc",
   "metadata": {},
   "outputs": [
    {
     "name": "stderr",
     "output_type": "stream",
     "text": [
      "/var/folders/3w/rk_hrv3x4414ly__vz04n7vr0000gn/T/ipykernel_1834/2627137660.py:1: FutureWarning: The default value of numeric_only in DataFrame.corr is deprecated. In a future version, it will default to False. Select only valid columns or specify the value of numeric_only to silence this warning.\n",
      "  data.corr()\n"
     ]
    },
    {
     "data": {
      "text/html": [
       "<div>\n",
       "<style scoped>\n",
       "    .dataframe tbody tr th:only-of-type {\n",
       "        vertical-align: middle;\n",
       "    }\n",
       "\n",
       "    .dataframe tbody tr th {\n",
       "        vertical-align: top;\n",
       "    }\n",
       "\n",
       "    .dataframe thead th {\n",
       "        text-align: right;\n",
       "    }\n",
       "</style>\n",
       "<table border=\"1\" class=\"dataframe\">\n",
       "  <thead>\n",
       "    <tr style=\"text-align: right;\">\n",
       "      <th></th>\n",
       "      <th>nwp_globalirrad</th>\n",
       "      <th>nwp_directirrad</th>\n",
       "      <th>nwp_temperature</th>\n",
       "      <th>nwp_humidity</th>\n",
       "      <th>nwp_windspeed</th>\n",
       "      <th>nwp_winddirection</th>\n",
       "      <th>nwp_pressure</th>\n",
       "      <th>lmd_totalirrad</th>\n",
       "      <th>lmd_diffuseirrad</th>\n",
       "      <th>lmd_temperature</th>\n",
       "      <th>lmd_pressure</th>\n",
       "      <th>lmd_winddirection</th>\n",
       "      <th>lmd_windspeed</th>\n",
       "      <th>power</th>\n",
       "    </tr>\n",
       "  </thead>\n",
       "  <tbody>\n",
       "    <tr>\n",
       "      <th>nwp_globalirrad</th>\n",
       "      <td>1.000000</td>\n",
       "      <td>0.995845</td>\n",
       "      <td>0.421803</td>\n",
       "      <td>-0.415565</td>\n",
       "      <td>0.195983</td>\n",
       "      <td>0.015588</td>\n",
       "      <td>-0.150020</td>\n",
       "      <td>0.934452</td>\n",
       "      <td>0.831351</td>\n",
       "      <td>0.348585</td>\n",
       "      <td>-0.166152</td>\n",
       "      <td>0.005717</td>\n",
       "      <td>0.359422</td>\n",
       "      <td>0.926268</td>\n",
       "    </tr>\n",
       "    <tr>\n",
       "      <th>nwp_directirrad</th>\n",
       "      <td>0.995845</td>\n",
       "      <td>1.000000</td>\n",
       "      <td>0.418030</td>\n",
       "      <td>-0.412677</td>\n",
       "      <td>0.186582</td>\n",
       "      <td>0.023554</td>\n",
       "      <td>-0.151365</td>\n",
       "      <td>0.932273</td>\n",
       "      <td>0.825930</td>\n",
       "      <td>0.348993</td>\n",
       "      <td>-0.167653</td>\n",
       "      <td>0.011884</td>\n",
       "      <td>0.351698</td>\n",
       "      <td>0.921529</td>\n",
       "    </tr>\n",
       "    <tr>\n",
       "      <th>nwp_temperature</th>\n",
       "      <td>0.421803</td>\n",
       "      <td>0.418030</td>\n",
       "      <td>1.000000</td>\n",
       "      <td>-0.026142</td>\n",
       "      <td>0.262667</td>\n",
       "      <td>0.044083</td>\n",
       "      <td>-0.823719</td>\n",
       "      <td>0.445088</td>\n",
       "      <td>0.418266</td>\n",
       "      <td>0.974296</td>\n",
       "      <td>-0.835855</td>\n",
       "      <td>-0.013612</td>\n",
       "      <td>0.268316</td>\n",
       "      <td>0.430258</td>\n",
       "    </tr>\n",
       "    <tr>\n",
       "      <th>nwp_humidity</th>\n",
       "      <td>-0.415565</td>\n",
       "      <td>-0.412677</td>\n",
       "      <td>-0.026142</td>\n",
       "      <td>1.000000</td>\n",
       "      <td>-0.166415</td>\n",
       "      <td>0.013940</td>\n",
       "      <td>-0.187320</td>\n",
       "      <td>-0.390597</td>\n",
       "      <td>-0.362010</td>\n",
       "      <td>0.036730</td>\n",
       "      <td>-0.172041</td>\n",
       "      <td>0.074189</td>\n",
       "      <td>-0.236806</td>\n",
       "      <td>-0.375273</td>\n",
       "    </tr>\n",
       "    <tr>\n",
       "      <th>nwp_windspeed</th>\n",
       "      <td>0.195983</td>\n",
       "      <td>0.186582</td>\n",
       "      <td>0.262667</td>\n",
       "      <td>-0.166415</td>\n",
       "      <td>1.000000</td>\n",
       "      <td>-0.012281</td>\n",
       "      <td>-0.258522</td>\n",
       "      <td>0.196788</td>\n",
       "      <td>0.182416</td>\n",
       "      <td>0.255025</td>\n",
       "      <td>-0.267503</td>\n",
       "      <td>-0.032349</td>\n",
       "      <td>0.546461</td>\n",
       "      <td>0.205095</td>\n",
       "    </tr>\n",
       "    <tr>\n",
       "      <th>nwp_winddirection</th>\n",
       "      <td>0.015588</td>\n",
       "      <td>0.023554</td>\n",
       "      <td>0.044083</td>\n",
       "      <td>0.013940</td>\n",
       "      <td>-0.012281</td>\n",
       "      <td>1.000000</td>\n",
       "      <td>-0.127554</td>\n",
       "      <td>0.022391</td>\n",
       "      <td>0.024195</td>\n",
       "      <td>0.055519</td>\n",
       "      <td>-0.122616</td>\n",
       "      <td>0.327819</td>\n",
       "      <td>-0.049168</td>\n",
       "      <td>0.012489</td>\n",
       "    </tr>\n",
       "    <tr>\n",
       "      <th>nwp_pressure</th>\n",
       "      <td>-0.150020</td>\n",
       "      <td>-0.151365</td>\n",
       "      <td>-0.823719</td>\n",
       "      <td>-0.187320</td>\n",
       "      <td>-0.258522</td>\n",
       "      <td>-0.127554</td>\n",
       "      <td>1.000000</td>\n",
       "      <td>-0.170382</td>\n",
       "      <td>-0.162840</td>\n",
       "      <td>-0.833907</td>\n",
       "      <td>0.994390</td>\n",
       "      <td>-0.037493</td>\n",
       "      <td>-0.201150</td>\n",
       "      <td>-0.157986</td>\n",
       "    </tr>\n",
       "    <tr>\n",
       "      <th>lmd_totalirrad</th>\n",
       "      <td>0.934452</td>\n",
       "      <td>0.932273</td>\n",
       "      <td>0.445088</td>\n",
       "      <td>-0.390597</td>\n",
       "      <td>0.196788</td>\n",
       "      <td>0.022391</td>\n",
       "      <td>-0.170382</td>\n",
       "      <td>1.000000</td>\n",
       "      <td>0.856006</td>\n",
       "      <td>0.394207</td>\n",
       "      <td>-0.190390</td>\n",
       "      <td>0.018773</td>\n",
       "      <td>0.380266</td>\n",
       "      <td>0.977772</td>\n",
       "    </tr>\n",
       "    <tr>\n",
       "      <th>lmd_diffuseirrad</th>\n",
       "      <td>0.831351</td>\n",
       "      <td>0.825930</td>\n",
       "      <td>0.418266</td>\n",
       "      <td>-0.362010</td>\n",
       "      <td>0.182416</td>\n",
       "      <td>0.024195</td>\n",
       "      <td>-0.162840</td>\n",
       "      <td>0.856006</td>\n",
       "      <td>1.000000</td>\n",
       "      <td>0.357523</td>\n",
       "      <td>-0.175623</td>\n",
       "      <td>0.009359</td>\n",
       "      <td>0.319901</td>\n",
       "      <td>0.841566</td>\n",
       "    </tr>\n",
       "    <tr>\n",
       "      <th>lmd_temperature</th>\n",
       "      <td>0.348585</td>\n",
       "      <td>0.348993</td>\n",
       "      <td>0.974296</td>\n",
       "      <td>0.036730</td>\n",
       "      <td>0.255025</td>\n",
       "      <td>0.055519</td>\n",
       "      <td>-0.833907</td>\n",
       "      <td>0.394207</td>\n",
       "      <td>0.357523</td>\n",
       "      <td>1.000000</td>\n",
       "      <td>-0.854076</td>\n",
       "      <td>-0.012077</td>\n",
       "      <td>0.264754</td>\n",
       "      <td>0.379124</td>\n",
       "    </tr>\n",
       "    <tr>\n",
       "      <th>lmd_pressure</th>\n",
       "      <td>-0.166152</td>\n",
       "      <td>-0.167653</td>\n",
       "      <td>-0.835855</td>\n",
       "      <td>-0.172041</td>\n",
       "      <td>-0.267503</td>\n",
       "      <td>-0.122616</td>\n",
       "      <td>0.994390</td>\n",
       "      <td>-0.190390</td>\n",
       "      <td>-0.175623</td>\n",
       "      <td>-0.854076</td>\n",
       "      <td>1.000000</td>\n",
       "      <td>-0.026570</td>\n",
       "      <td>-0.216253</td>\n",
       "      <td>-0.178313</td>\n",
       "    </tr>\n",
       "    <tr>\n",
       "      <th>lmd_winddirection</th>\n",
       "      <td>0.005717</td>\n",
       "      <td>0.011884</td>\n",
       "      <td>-0.013612</td>\n",
       "      <td>0.074189</td>\n",
       "      <td>-0.032349</td>\n",
       "      <td>0.327819</td>\n",
       "      <td>-0.037493</td>\n",
       "      <td>0.018773</td>\n",
       "      <td>0.009359</td>\n",
       "      <td>-0.012077</td>\n",
       "      <td>-0.026570</td>\n",
       "      <td>1.000000</td>\n",
       "      <td>-0.073085</td>\n",
       "      <td>0.022426</td>\n",
       "    </tr>\n",
       "    <tr>\n",
       "      <th>lmd_windspeed</th>\n",
       "      <td>0.359422</td>\n",
       "      <td>0.351698</td>\n",
       "      <td>0.268316</td>\n",
       "      <td>-0.236806</td>\n",
       "      <td>0.546461</td>\n",
       "      <td>-0.049168</td>\n",
       "      <td>-0.201150</td>\n",
       "      <td>0.380266</td>\n",
       "      <td>0.319901</td>\n",
       "      <td>0.264754</td>\n",
       "      <td>-0.216253</td>\n",
       "      <td>-0.073085</td>\n",
       "      <td>1.000000</td>\n",
       "      <td>0.383514</td>\n",
       "    </tr>\n",
       "    <tr>\n",
       "      <th>power</th>\n",
       "      <td>0.926268</td>\n",
       "      <td>0.921529</td>\n",
       "      <td>0.430258</td>\n",
       "      <td>-0.375273</td>\n",
       "      <td>0.205095</td>\n",
       "      <td>0.012489</td>\n",
       "      <td>-0.157986</td>\n",
       "      <td>0.977772</td>\n",
       "      <td>0.841566</td>\n",
       "      <td>0.379124</td>\n",
       "      <td>-0.178313</td>\n",
       "      <td>0.022426</td>\n",
       "      <td>0.383514</td>\n",
       "      <td>1.000000</td>\n",
       "    </tr>\n",
       "  </tbody>\n",
       "</table>\n",
       "</div>"
      ],
      "text/plain": [
       "                   nwp_globalirrad  nwp_directirrad  nwp_temperature  \\\n",
       "nwp_globalirrad           1.000000         0.995845         0.421803   \n",
       "nwp_directirrad           0.995845         1.000000         0.418030   \n",
       "nwp_temperature           0.421803         0.418030         1.000000   \n",
       "nwp_humidity             -0.415565        -0.412677        -0.026142   \n",
       "nwp_windspeed             0.195983         0.186582         0.262667   \n",
       "nwp_winddirection         0.015588         0.023554         0.044083   \n",
       "nwp_pressure             -0.150020        -0.151365        -0.823719   \n",
       "lmd_totalirrad            0.934452         0.932273         0.445088   \n",
       "lmd_diffuseirrad          0.831351         0.825930         0.418266   \n",
       "lmd_temperature           0.348585         0.348993         0.974296   \n",
       "lmd_pressure             -0.166152        -0.167653        -0.835855   \n",
       "lmd_winddirection         0.005717         0.011884        -0.013612   \n",
       "lmd_windspeed             0.359422         0.351698         0.268316   \n",
       "power                     0.926268         0.921529         0.430258   \n",
       "\n",
       "                   nwp_humidity  nwp_windspeed  nwp_winddirection  \\\n",
       "nwp_globalirrad       -0.415565       0.195983           0.015588   \n",
       "nwp_directirrad       -0.412677       0.186582           0.023554   \n",
       "nwp_temperature       -0.026142       0.262667           0.044083   \n",
       "nwp_humidity           1.000000      -0.166415           0.013940   \n",
       "nwp_windspeed         -0.166415       1.000000          -0.012281   \n",
       "nwp_winddirection      0.013940      -0.012281           1.000000   \n",
       "nwp_pressure          -0.187320      -0.258522          -0.127554   \n",
       "lmd_totalirrad        -0.390597       0.196788           0.022391   \n",
       "lmd_diffuseirrad      -0.362010       0.182416           0.024195   \n",
       "lmd_temperature        0.036730       0.255025           0.055519   \n",
       "lmd_pressure          -0.172041      -0.267503          -0.122616   \n",
       "lmd_winddirection      0.074189      -0.032349           0.327819   \n",
       "lmd_windspeed         -0.236806       0.546461          -0.049168   \n",
       "power                 -0.375273       0.205095           0.012489   \n",
       "\n",
       "                   nwp_pressure  lmd_totalirrad  lmd_diffuseirrad  \\\n",
       "nwp_globalirrad       -0.150020        0.934452          0.831351   \n",
       "nwp_directirrad       -0.151365        0.932273          0.825930   \n",
       "nwp_temperature       -0.823719        0.445088          0.418266   \n",
       "nwp_humidity          -0.187320       -0.390597         -0.362010   \n",
       "nwp_windspeed         -0.258522        0.196788          0.182416   \n",
       "nwp_winddirection     -0.127554        0.022391          0.024195   \n",
       "nwp_pressure           1.000000       -0.170382         -0.162840   \n",
       "lmd_totalirrad        -0.170382        1.000000          0.856006   \n",
       "lmd_diffuseirrad      -0.162840        0.856006          1.000000   \n",
       "lmd_temperature       -0.833907        0.394207          0.357523   \n",
       "lmd_pressure           0.994390       -0.190390         -0.175623   \n",
       "lmd_winddirection     -0.037493        0.018773          0.009359   \n",
       "lmd_windspeed         -0.201150        0.380266          0.319901   \n",
       "power                 -0.157986        0.977772          0.841566   \n",
       "\n",
       "                   lmd_temperature  lmd_pressure  lmd_winddirection  \\\n",
       "nwp_globalirrad           0.348585     -0.166152           0.005717   \n",
       "nwp_directirrad           0.348993     -0.167653           0.011884   \n",
       "nwp_temperature           0.974296     -0.835855          -0.013612   \n",
       "nwp_humidity              0.036730     -0.172041           0.074189   \n",
       "nwp_windspeed             0.255025     -0.267503          -0.032349   \n",
       "nwp_winddirection         0.055519     -0.122616           0.327819   \n",
       "nwp_pressure             -0.833907      0.994390          -0.037493   \n",
       "lmd_totalirrad            0.394207     -0.190390           0.018773   \n",
       "lmd_diffuseirrad          0.357523     -0.175623           0.009359   \n",
       "lmd_temperature           1.000000     -0.854076          -0.012077   \n",
       "lmd_pressure             -0.854076      1.000000          -0.026570   \n",
       "lmd_winddirection        -0.012077     -0.026570           1.000000   \n",
       "lmd_windspeed             0.264754     -0.216253          -0.073085   \n",
       "power                     0.379124     -0.178313           0.022426   \n",
       "\n",
       "                   lmd_windspeed     power  \n",
       "nwp_globalirrad         0.359422  0.926268  \n",
       "nwp_directirrad         0.351698  0.921529  \n",
       "nwp_temperature         0.268316  0.430258  \n",
       "nwp_humidity           -0.236806 -0.375273  \n",
       "nwp_windspeed           0.546461  0.205095  \n",
       "nwp_winddirection      -0.049168  0.012489  \n",
       "nwp_pressure           -0.201150 -0.157986  \n",
       "lmd_totalirrad          0.380266  0.977772  \n",
       "lmd_diffuseirrad        0.319901  0.841566  \n",
       "lmd_temperature         0.264754  0.379124  \n",
       "lmd_pressure           -0.216253 -0.178313  \n",
       "lmd_winddirection      -0.073085  0.022426  \n",
       "lmd_windspeed           1.000000  0.383514  \n",
       "power                   0.383514  1.000000  "
      ]
     },
     "execution_count": 46,
     "metadata": {},
     "output_type": "execute_result"
    }
   ],
   "source": [
    "data.corr()"
   ]
  },
  {
   "cell_type": "markdown",
   "id": "8453f463",
   "metadata": {},
   "source": [
    "- We focus on the last row of our matrix. As we can see, the power is close to perfect linearity correlation with some variables."
   ]
  },
  {
   "cell_type": "code",
   "execution_count": 47,
   "id": "51ae5260",
   "metadata": {},
   "outputs": [
    {
     "name": "stdout",
     "output_type": "stream",
     "text": [
      "       nwp_globalirrad  nwp_directirrad  nwp_temperature  nwp_humidity  \\\n",
      "0                  0.0              0.0            22.78         96.85   \n",
      "1                  0.0              0.0            22.75         96.91   \n",
      "2                  0.0              0.0            22.71         96.95   \n",
      "3                  0.0              0.0            22.64         97.12   \n",
      "4                  0.0              0.0            22.57         97.15   \n",
      "...                ...              ...              ...           ...   \n",
      "28891              0.0              0.0            26.04         49.55   \n",
      "28892              0.0              0.0            25.80         51.03   \n",
      "28893              0.0              0.0            25.54         52.43   \n",
      "28894              0.0              0.0            25.23         53.84   \n",
      "28895              0.0              0.0            24.88         55.21   \n",
      "\n",
      "       nwp_windspeed  nwp_winddirection  nwp_pressure  lmd_totalirrad  \\\n",
      "0               4.28             339.41       1007.27               0   \n",
      "1               4.30             337.27       1007.27               0   \n",
      "2               4.28             334.47       1007.48               0   \n",
      "3               4.28             331.52       1007.39               0   \n",
      "4               4.33             329.78       1007.09               0   \n",
      "...              ...                ...           ...             ...   \n",
      "28891           4.46              50.84       1000.10               0   \n",
      "28892           4.39              53.53       1000.24               0   \n",
      "28893           4.23              57.52       1000.35               0   \n",
      "28894           4.05              67.15       1000.52               0   \n",
      "28895           3.89              80.53       1000.72               0   \n",
      "\n",
      "       lmd_diffuseirrad  lmd_temperature  lmd_pressure  lmd_winddirection  \\\n",
      "0                     0        25.900000   1006.299988                353   \n",
      "1                     0        25.900000   1006.200012                330   \n",
      "2                     0        25.799999   1006.299988                  1   \n",
      "3                     0        25.600000   1006.299988                309   \n",
      "4                     0        25.700001   1006.299988                335   \n",
      "...                 ...              ...           ...                ...   \n",
      "28891                 0        24.299999    998.900024                177   \n",
      "28892                 0        23.600000    998.900024                 42   \n",
      "28893                 0        24.400000    999.000000                 68   \n",
      "28894                 0        24.000000    998.900024                278   \n",
      "28895                 0        22.900000    998.700012                277   \n",
      "\n",
      "       lmd_windspeed  \n",
      "0                1.1  \n",
      "1                0.9  \n",
      "2                1.9  \n",
      "3                0.4  \n",
      "4                1.6  \n",
      "...              ...  \n",
      "28891            0.1  \n",
      "28892            0.6  \n",
      "28893            0.0  \n",
      "28894            0.7  \n",
      "28895            0.2  \n",
      "\n",
      "[28896 rows x 13 columns]\n",
      "       power\n",
      "0        0.0\n",
      "1        0.0\n",
      "2        0.0\n",
      "3        0.0\n",
      "4        0.0\n",
      "...      ...\n",
      "28891    0.0\n",
      "28892    0.0\n",
      "28893    0.0\n",
      "28894    0.0\n",
      "28895    0.0\n",
      "\n",
      "[28896 rows x 1 columns]\n"
     ]
    }
   ],
   "source": [
    "x = pd. DataFrame (data.iloc [:,1:-1])\n",
    "y = pd. DataFrame (data.iloc [:, -1])\n",
    "print(x)\n",
    "print(y)"
   ]
  },
  {
   "cell_type": "markdown",
   "id": "1f0aff2f",
   "metadata": {},
   "source": [
    "Step 2 (Splitting for training and testing the model ):\n",
    "- Let's split the data with the train_test_split() function from from sklearn.linear_selection library"
   ]
  },
  {
   "cell_type": "code",
   "execution_count": 48,
   "id": "8258f573",
   "metadata": {},
   "outputs": [],
   "source": [
    "from sklearn.model_selection import train_test_split"
   ]
  },
  {
   "cell_type": "code",
   "execution_count": 49,
   "id": "3cba22d4",
   "metadata": {},
   "outputs": [],
   "source": [
    "x_train, x_test, y_train, y_test = train_test_split(x, y, test_size=0.2, random_state=1)      "
   ]
  },
  {
   "cell_type": "code",
   "execution_count": 50,
   "id": "e6eafeca",
   "metadata": {},
   "outputs": [
    {
     "name": "stdout",
     "output_type": "stream",
     "text": [
      "x_train shape: (23116, 13) x_test shape: (5780, 13) y_train shape: (23116, 1) y_test shape: (5780, 1)\n"
     ]
    }
   ],
   "source": [
    "# see the shape of our train and test sets\n",
    "print(f'x_train shape: {x_train.shape}',\n",
    "      f'x_test shape: {x_test.shape}',\n",
    "      f'y_train shape: {y_train.shape}',\n",
    "      f'y_test shape: {y_test.shape}',\n",
    "     )"
   ]
  },
  {
   "cell_type": "markdown",
   "id": "08b8bf41",
   "metadata": {},
   "source": [
    "Step 3 (fit the model):\n",
    "- We fit the model with LinearRegression(function) from sklearn.linear_model library"
   ]
  },
  {
   "cell_type": "code",
   "execution_count": 51,
   "id": "02f3c817",
   "metadata": {},
   "outputs": [],
   "source": [
    "from sklearn.linear_model import LinearRegression"
   ]
  },
  {
   "cell_type": "code",
   "execution_count": 52,
   "id": "692346ee",
   "metadata": {},
   "outputs": [
    {
     "data": {
      "text/html": [
       "<style>#sk-container-id-2 {color: black;background-color: white;}#sk-container-id-2 pre{padding: 0;}#sk-container-id-2 div.sk-toggleable {background-color: white;}#sk-container-id-2 label.sk-toggleable__label {cursor: pointer;display: block;width: 100%;margin-bottom: 0;padding: 0.3em;box-sizing: border-box;text-align: center;}#sk-container-id-2 label.sk-toggleable__label-arrow:before {content: \"▸\";float: left;margin-right: 0.25em;color: #696969;}#sk-container-id-2 label.sk-toggleable__label-arrow:hover:before {color: black;}#sk-container-id-2 div.sk-estimator:hover label.sk-toggleable__label-arrow:before {color: black;}#sk-container-id-2 div.sk-toggleable__content {max-height: 0;max-width: 0;overflow: hidden;text-align: left;background-color: #f0f8ff;}#sk-container-id-2 div.sk-toggleable__content pre {margin: 0.2em;color: black;border-radius: 0.25em;background-color: #f0f8ff;}#sk-container-id-2 input.sk-toggleable__control:checked~div.sk-toggleable__content {max-height: 200px;max-width: 100%;overflow: auto;}#sk-container-id-2 input.sk-toggleable__control:checked~label.sk-toggleable__label-arrow:before {content: \"▾\";}#sk-container-id-2 div.sk-estimator input.sk-toggleable__control:checked~label.sk-toggleable__label {background-color: #d4ebff;}#sk-container-id-2 div.sk-label input.sk-toggleable__control:checked~label.sk-toggleable__label {background-color: #d4ebff;}#sk-container-id-2 input.sk-hidden--visually {border: 0;clip: rect(1px 1px 1px 1px);clip: rect(1px, 1px, 1px, 1px);height: 1px;margin: -1px;overflow: hidden;padding: 0;position: absolute;width: 1px;}#sk-container-id-2 div.sk-estimator {font-family: monospace;background-color: #f0f8ff;border: 1px dotted black;border-radius: 0.25em;box-sizing: border-box;margin-bottom: 0.5em;}#sk-container-id-2 div.sk-estimator:hover {background-color: #d4ebff;}#sk-container-id-2 div.sk-parallel-item::after {content: \"\";width: 100%;border-bottom: 1px solid gray;flex-grow: 1;}#sk-container-id-2 div.sk-label:hover label.sk-toggleable__label {background-color: #d4ebff;}#sk-container-id-2 div.sk-serial::before {content: \"\";position: absolute;border-left: 1px solid gray;box-sizing: border-box;top: 0;bottom: 0;left: 50%;z-index: 0;}#sk-container-id-2 div.sk-serial {display: flex;flex-direction: column;align-items: center;background-color: white;padding-right: 0.2em;padding-left: 0.2em;position: relative;}#sk-container-id-2 div.sk-item {position: relative;z-index: 1;}#sk-container-id-2 div.sk-parallel {display: flex;align-items: stretch;justify-content: center;background-color: white;position: relative;}#sk-container-id-2 div.sk-item::before, #sk-container-id-2 div.sk-parallel-item::before {content: \"\";position: absolute;border-left: 1px solid gray;box-sizing: border-box;top: 0;bottom: 0;left: 50%;z-index: -1;}#sk-container-id-2 div.sk-parallel-item {display: flex;flex-direction: column;z-index: 1;position: relative;background-color: white;}#sk-container-id-2 div.sk-parallel-item:first-child::after {align-self: flex-end;width: 50%;}#sk-container-id-2 div.sk-parallel-item:last-child::after {align-self: flex-start;width: 50%;}#sk-container-id-2 div.sk-parallel-item:only-child::after {width: 0;}#sk-container-id-2 div.sk-dashed-wrapped {border: 1px dashed gray;margin: 0 0.4em 0.5em 0.4em;box-sizing: border-box;padding-bottom: 0.4em;background-color: white;}#sk-container-id-2 div.sk-label label {font-family: monospace;font-weight: bold;display: inline-block;line-height: 1.2em;}#sk-container-id-2 div.sk-label-container {text-align: center;}#sk-container-id-2 div.sk-container {/* jupyter's `normalize.less` sets `[hidden] { display: none; }` but bootstrap.min.css set `[hidden] { display: none !important; }` so we also need the `!important` here to be able to override the default hidden behavior on the sphinx rendered scikit-learn.org. See: https://github.com/scikit-learn/scikit-learn/issues/21755 */display: inline-block !important;position: relative;}#sk-container-id-2 div.sk-text-repr-fallback {display: none;}</style><div id=\"sk-container-id-2\" class=\"sk-top-container\"><div class=\"sk-text-repr-fallback\"><pre>LinearRegression()</pre><b>In a Jupyter environment, please rerun this cell to show the HTML representation or trust the notebook. <br />On GitHub, the HTML representation is unable to render, please try loading this page with nbviewer.org.</b></div><div class=\"sk-container\" hidden><div class=\"sk-item\"><div class=\"sk-estimator sk-toggleable\"><input class=\"sk-toggleable__control sk-hidden--visually\" id=\"sk-estimator-id-2\" type=\"checkbox\" checked><label for=\"sk-estimator-id-2\" class=\"sk-toggleable__label sk-toggleable__label-arrow\">LinearRegression</label><div class=\"sk-toggleable__content\"><pre>LinearRegression()</pre></div></div></div></div></div>"
      ],
      "text/plain": [
       "LinearRegression()"
      ]
     },
     "execution_count": 52,
     "metadata": {},
     "output_type": "execute_result"
    }
   ],
   "source": [
    "regressor = LinearRegression()\n",
    "regressor.fit(x_train, y_train)"
   ]
  },
  {
   "cell_type": "code",
   "execution_count": 53,
   "id": "c49efe82",
   "metadata": {},
   "outputs": [
    {
     "name": "stdout",
     "output_type": "stream",
     "text": [
      "[-2.1192357]\n",
      "[[ 2.07915268e-03 -1.65279386e-03 -2.65739360e-03  1.16026962e-03\n",
      "   5.67826591e-03 -8.41491748e-05  1.19413712e-02  4.38162643e-03\n",
      "   4.98592285e-06  2.26782295e-03 -9.94917922e-03  1.30087638e-04\n",
      "   8.57860189e-03]]\n"
     ]
    }
   ],
   "source": [
    "# check the fit, we want to see the intercept of our linear regression and the coef\n",
    "print(regressor.intercept_)\n",
    "print(regressor.coef_)"
   ]
  },
  {
   "cell_type": "markdown",
   "id": "ec24cc42",
   "metadata": {},
   "source": [
    "Step 3 (Evaluate the model):\n",
    "- first, we predict the values with x_test"
   ]
  },
  {
   "cell_type": "code",
   "execution_count": 54,
   "id": "3fb9e14c",
   "metadata": {},
   "outputs": [],
   "source": [
    "y_pred = regressor.predict(x_test)\n"
   ]
  },
  {
   "cell_type": "code",
   "execution_count": 60,
   "id": "508e6260",
   "metadata": {},
   "outputs": [
    {
     "name": "stdout",
     "output_type": "stream",
     "text": [
      "Mean absolute error: 0.11\n",
      "Mean squared error: 0.08\n",
      "Root mean squared error: 0.28\n"
     ]
    }
   ],
   "source": [
    "from sklearn import metrics\n",
    "mae = metrics.mean_absolute_error(y_test, y_pred)\n",
    "mse = metrics.mean_squared_error(y_test, y_pred)\n",
    "rmse = np.sqrt(mse)\n",
    "\n",
    "print(f'Mean absolute error: {mae:.2f}')\n",
    "print(f'Mean squared error: {mse:.2f}')\n",
    "print(f'Root mean squared error: {rmse:.2f}')"
   ]
  },
  {
   "cell_type": "markdown",
   "id": "a4112cf6",
   "metadata": {},
   "source": [
    "- The mse is close to 0. Good!!\n",
    "- The rmse of our model is 0.28, wich is small. That means our model might get its prediction wrong by adding or subtracting 0.28 from the actual value. "
   ]
  },
  {
   "cell_type": "code",
   "execution_count": 62,
   "id": "82b18f0c",
   "metadata": {},
   "outputs": [
    {
     "data": {
      "text/plain": [
       "0.9516386787302777"
      ]
     },
     "execution_count": 62,
     "metadata": {},
     "output_type": "execute_result"
    }
   ],
   "source": [
    "regressor.score(x_test, y_test)"
   ]
  },
  {
   "cell_type": "markdown",
   "id": "5fe7668d",
   "metadata": {},
   "source": [
    "- Also the R^2 is high, it means  This means that the predictor variables explain about 95% of the variance in the response variable."
   ]
  },
  {
   "cell_type": "markdown",
   "id": "5b63516e",
   "metadata": {},
   "source": [
    "Rest of the work:\n",
    "- save the model with dump"
   ]
  }
 ],
 "metadata": {
  "kernelspec": {
   "display_name": "Python 3 (ipykernel)",
   "language": "python",
   "name": "python3"
  },
  "language_info": {
   "codemirror_mode": {
    "name": "ipython",
    "version": 3
   },
   "file_extension": ".py",
   "mimetype": "text/x-python",
   "name": "python",
   "nbconvert_exporter": "python",
   "pygments_lexer": "ipython3",
   "version": "3.10.9"
  }
 },
 "nbformat": 4,
 "nbformat_minor": 5
}
