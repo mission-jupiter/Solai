{
 "cells": [
  {
   "cell_type": "code",
   "execution_count": 217,
   "metadata": {},
   "outputs": [],
   "source": [
    "import pandas as pd\n",
    "from datetime import datetime, timedelta\n",
    "import re\n",
    "import requests\n",
    "import json\n",
    "import os"
   ]
  },
  {
   "attachments": {},
   "cell_type": "markdown",
   "metadata": {},
   "source": [
    "# Locial Structure\n",
    "\n",
    "1. We download the real weather data and store it in a DataFrame\n",
    "2. Loop over the forecasts\n",
    "    - Take the forecast and restrict them to the next 2 days\n",
    "    - Compare each forecast with the real weather and store the difference as a percentage\n",
    "    - Add this percentage to a list. Now we can calculate the average"
   ]
  },
  {
   "attachments": {},
   "cell_type": "markdown",
   "metadata": {},
   "source": [
    "# 1. Download Real Weather Data"
   ]
  },
  {
   "cell_type": "code",
   "execution_count": 218,
   "metadata": {},
   "outputs": [],
   "source": [
    "def create_date_and_hour(df:pd.DataFrame):\n",
    "    df[\"date\"] = pd.to_datetime(df.time).dt.date\n",
    "    df[\"hour\"] = pd.to_datetime(df.time).dt.hour\n",
    "    return df\n",
    "\n",
    "def get_weather(start_date:str, end_date:str) -> pd.DataFrame:\n",
    "    api = f\"https://archive-api.open-meteo.com/v1/archive?latitude=51.51&longitude=-0.13&start_date={start_date}&end_date={end_date}&hourly=temperature_2m,relativehumidity_2m,surface_pressure,direct_radiation,windspeed_10m,winddirection_10m\"\n",
    "    result = requests.get(api).text\n",
    "    df = pd.DataFrame(json.loads(result).get(\"hourly\"))\n",
    "\n",
    "    # Create better readable date and hour\n",
    "    df = create_date_and_hour(df)\n",
    "\n",
    "    # Remove the last day, because it's empty\n",
    "    df = df.loc[df.date != datetime.strptime(end_date, \"%Y-%m-%d\").date()]\n",
    "    \n",
    "    return df"
   ]
  },
  {
   "cell_type": "code",
   "execution_count": 222,
   "metadata": {},
   "outputs": [],
   "source": [
    "# Right now the API takes 5 days to publish the historical weather data\n",
    "real_weather = get_weather(\"2023-05-11\", \"2023-05-13\")"
   ]
  },
  {
   "attachments": {},
   "cell_type": "markdown",
   "metadata": {},
   "source": [
    "# 2. Loop over forecasts"
   ]
  },
  {
   "cell_type": "code",
   "execution_count": 223,
   "metadata": {},
   "outputs": [],
   "source": [
    "# Get all files in folder and store the filepaths\n",
    "filepaths = []\n",
    "# assign directory\n",
    "directory = 'forecast-data'\n",
    "\n",
    "# iterate over files in\n",
    "# that directory\n",
    "for filename in os.listdir(directory):\n",
    "\tf = os.path.join(directory, filename)\n",
    "\t# checking if it is a file\n",
    "\tif os.path.isfile(f):\n",
    "\t\tfilepaths.append(f)\n",
    "\n",
    "filepaths = sorted(filepaths)"
   ]
  },
  {
   "cell_type": "code",
   "execution_count": 224,
   "metadata": {},
   "outputs": [
    {
     "name": "stdout",
     "output_type": "stream",
     "text": [
      "               time  temperature_2m_x  relativehumidity_2m_x   \n",
      "0  2023-05-12T00:00              11.4                     94  \\\n",
      "1  2023-05-12T01:00              10.7                     96   \n",
      "2  2023-05-12T02:00              10.8                     90   \n",
      "3  2023-05-12T03:00              11.0                     88   \n",
      "4  2023-05-12T04:00              10.8                     86   \n",
      "\n",
      "   surface_pressure_x  windspeed_10m_x  winddirection_10m_x  is_day   \n",
      "0              1015.3             10.0                   69       0  \\\n",
      "1              1015.8             10.3                   54       0   \n",
      "2              1016.2              9.4                   50       0   \n",
      "3              1016.6             11.2                   42       0   \n",
      "4              1016.7             11.9                   35       0   \n",
      "\n",
      "   terrestrial_radiation      date_x  hour_x  temperature_2m_y   \n",
      "0                    0.0  2023-05-12       0               9.8  \\\n",
      "1                    0.0  2023-05-12       1               9.3   \n",
      "2                    0.0  2023-05-12       2               9.2   \n",
      "3                    0.0  2023-05-12       3               9.4   \n",
      "4                    0.0  2023-05-12       4               9.2   \n",
      "\n",
      "   relativehumidity_2m_y  surface_pressure_y  direct_radiation   \n",
      "0                   97.0              1016.0               0.0  \\\n",
      "1                   98.0              1016.1               0.0   \n",
      "2                   99.0              1016.4               0.0   \n",
      "3                   99.0              1016.9               0.0   \n",
      "4                   98.0              1017.2               0.0   \n",
      "\n",
      "   windspeed_10m_y  winddirection_10m_y      date_y  hour_y  \n",
      "0              9.6                 34.0  2023-05-12       0  \n",
      "1              9.8                 28.0  2023-05-12       1  \n",
      "2             10.5                 31.0  2023-05-12       2  \n",
      "3             12.9                 30.0  2023-05-12       3  \n",
      "4             16.5                 23.0  2023-05-12       4  \n"
     ]
    }
   ],
   "source": [
    "for file in filepaths[:1]:\n",
    "    # Remove [:1] when you want to do it on more data\n",
    "    # Data is stored each day in a file. The only indicator which date we have is\n",
    "    # the filename. We have to extract the date out of the filename in step 1\n",
    "\n",
    "    # file name with extension\n",
    "    forecast_date = os.path.basename(file).split(\"_\")[0]\n",
    "    forecast_date = datetime.strptime(forecast_date, \"%Y-%m-%d\").date()\n",
    "    df = pd.read_json(file)\n",
    "    df = create_date_and_hour(df)\n",
    "    df = df.loc[(df[\"date\"] > forecast_date) & (df[\"date\"] <= forecast_date + timedelta(days=2))]\n",
    "    # Now we merge the real weather data in the forecasts\n",
    "    df = pd.merge(df, real_weather, on=\"time\", how=\"inner\")\n",
    "    print(df.head())\n",
    "\n",
    "\n"
   ]
  },
  {
   "cell_type": "code",
   "execution_count": null,
   "metadata": {},
   "outputs": [],
   "source": []
  },
  {
   "cell_type": "code",
   "execution_count": null,
   "metadata": {},
   "outputs": [],
   "source": []
  }
 ],
 "metadata": {
  "kernelspec": {
   "display_name": "bidata",
   "language": "python",
   "name": "python3"
  },
  "language_info": {
   "codemirror_mode": {
    "name": "ipython",
    "version": 3
   },
   "file_extension": ".py",
   "mimetype": "text/x-python",
   "name": "python",
   "nbconvert_exporter": "python",
   "pygments_lexer": "ipython3",
   "version": "3.9.16"
  },
  "orig_nbformat": 4
 },
 "nbformat": 4,
 "nbformat_minor": 2
}
