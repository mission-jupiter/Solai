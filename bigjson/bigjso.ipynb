{
 "cells": [
  {
   "cell_type": "code",
   "execution_count": 73,
   "id": "f6dd6693",
   "metadata": {},
   "outputs": [],
   "source": [
    "import os\n",
    "import json\n",
    "import requests\n",
    "import datetime\n",
    "import pandas as pd"
   ]
  },
  {
   "cell_type": "code",
   "execution_count": 74,
   "id": "2f8e8000",
   "metadata": {},
   "outputs": [],
   "source": [
    "def pv_data(startdate, enddate):\n",
    "    url = f\"https://api.solar.sheffield.ac.uk/pvlive/api/v4/pes/12?start={startdate}&end={enddate}&data_format=csv\"\n",
    "    responsepv = requests.get(url)\n",
    "    data = responsepv.text.split('\\n')[1:-1] #remove the last empty line\n",
    "    #df = pd.DataFrame([x.split(',')for x in data], columns=['pes_id','time','output'],)\n",
    "    #df['time'] = pd.to_datetime(df['time'], utc=True)\n",
    "    #I freeze it beacuse you cannot add an df in dictionary\n",
    "    return data"
   ]
  },
  {
   "cell_type": "code",
   "execution_count": 75,
   "id": "bb589f65",
   "metadata": {},
   "outputs": [],
   "source": [
    "folder_path = \"/Users/sukhdevchaman/Desktop/unitn/Big Data Techn/Projectenvbigdata/Project/new_forecasts_for_model\""
   ]
  },
  {
   "cell_type": "code",
   "execution_count": 76,
   "id": "ed9d2d6d",
   "metadata": {},
   "outputs": [],
   "source": [
    "data_dict = {}"
   ]
  },
  {
   "cell_type": "code",
   "execution_count": 77,
   "id": "81bb55fb",
   "metadata": {},
   "outputs": [],
   "source": [
    "json_files = [f for f in os.listdir(folder_path) if f.endswith(\".json\")]"
   ]
  },
  {
   "cell_type": "code",
   "execution_count": 98,
   "id": "a64ef408",
   "metadata": {},
   "outputs": [],
   "source": [
    "json_files = [f for f in os.listdir(folder_path) if f.endswith(\".json\")]\n",
    "\n",
    "for json_file in json_files:\n",
    "    # Extract date and time from file name\n",
    "    file_name = os.path.splitext(json_file)[0]\n",
    "    date_time_str = file_name.split(\"_\")[0] # Assumendo che il nome del file abbia il formato \"data_ora.json\"\n",
    "    date_time = datetime.datetime.strptime(date_time_str, \"%Y-%m-%d\")\n",
    "    \n",
    "    # read the json file\n",
    "    with open(os.path.join(folder_path, json_file), \"r\") as file:\n",
    "        json_data = json.load(file)\n",
    "    \n",
    "    # Get the desired weather forecast from JSON file\n",
    "    time = json_data[\"time\"]\n",
    "    temperature = json_data[\"temperature_2m\"]\n",
    "    humidity = json_data[\"relativehumidity_2m\"]\n",
    "    pressure = json_data[\"surface_pressure\"]\n",
    "    irradiance = json_data[\"direct_normal_irradiance\"]\n",
    "    windspeed = json_data[\"windspeed_10m\"]\n",
    "    winddirection = json_data[\"winddirection_10m\"]\n",
    "    \n",
    "    # Run the REST API call to get the output of the photovoltaic panel\n",
    "    startdate = date_time.strftime(\"Y-%m-%d\")\n",
    "    enddate = (date_time + datetime.timedelta(days=2)).strftime(\"Y-%m-%d\")\n",
    "    data = pv_data(startdate, enddate)\n",
    "\n",
    "    # add the forecasts data in dict.\n",
    "    data_dict[file_name] = {\n",
    "        \"time\": time,\n",
    "        \"temperature\": temperature,\n",
    "        \"humidity\": humidity,\n",
    "        \"pressure\": pressure,\n",
    "        \"irradiance\": irradiance,\n",
    "        \"windspeed\": windspeed,\n",
    "        \"winddirection\": winddirection,\n",
    "        \"solar_output\": data\n",
    "    }\n"
   ]
  },
  {
   "cell_type": "code",
   "execution_count": null,
   "id": "e2ca6c08",
   "metadata": {},
   "outputs": [],
   "source": []
  },
  {
   "cell_type": "code",
   "execution_count": 99,
   "id": "b21adfab",
   "metadata": {},
   "outputs": [],
   "source": [
    "output_file_path = \"/Users/sukhdevchaman/Desktop/unitn/Big Data Techn/Projectenvbigdata/Project/fullfile.json\"\n",
    "with open(output_file_path, \"w\") as output_file:\n",
    "    json.dump(data_dict, output_file)"
   ]
  },
  {
   "cell_type": "code",
   "execution_count": null,
   "id": "1c6c5df0",
   "metadata": {},
   "outputs": [],
   "source": []
  },
  {
   "cell_type": "code",
   "execution_count": null,
   "id": "9660a894",
   "metadata": {},
   "outputs": [],
   "source": []
  }
 ],
 "metadata": {
  "kernelspec": {
   "display_name": "Python 3 (ipykernel)",
   "language": "python",
   "name": "python3"
  },
  "language_info": {
   "codemirror_mode": {
    "name": "ipython",
    "version": 3
   },
   "file_extension": ".py",
   "mimetype": "text/x-python",
   "name": "python",
   "nbconvert_exporter": "python",
   "pygments_lexer": "ipython3",
   "version": "3.10.9"
  }
 },
 "nbformat": 4,
 "nbformat_minor": 5
}
